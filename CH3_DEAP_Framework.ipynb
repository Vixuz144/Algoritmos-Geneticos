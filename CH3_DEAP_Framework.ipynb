{
  "nbformat": 4,
  "nbformat_minor": 0,
  "metadata": {
    "colab": {
      "provenance": [],
      "authorship_tag": "ABX9TyPjGlXRf5RIlix23ehjz1p0",
      "include_colab_link": true
    },
    "kernelspec": {
      "name": "python3",
      "display_name": "Python 3"
    },
    "language_info": {
      "name": "python"
    }
  },
  "cells": [
    {
      "cell_type": "markdown",
      "metadata": {
        "id": "view-in-github",
        "colab_type": "text"
      },
      "source": [
        "<a href=\"https://colab.research.google.com/github/Vixuz144/Algoritmos-Geneticos/blob/main/CH3_DEAP_Framework.ipynb\" target=\"_parent\"><img src=\"https://colab.research.google.com/assets/colab-badge.svg\" alt=\"Open In Colab\"/></a>"
      ]
    },
    {
      "cell_type": "markdown",
      "source": [
        "DEAP: Distributed Evolutionary Algorithms in Python"
      ],
      "metadata": {
        "id": "9P4-lLVV_br4"
      }
    },
    {
      "cell_type": "markdown",
      "source": [
        "Prrmero, se presenta el modulo *creator*, el cual sirve para crear clases. En el libro se nos presenta el siguiente ejemplo."
      ],
      "metadata": {
        "id": "toXaXYpTA0_2"
      }
    },
    {
      "cell_type": "code",
      "source": [
        "pip install deap"
      ],
      "metadata": {
        "colab": {
          "base_uri": "https://localhost:8080/"
        },
        "id": "c_SC9EnbB2CQ",
        "outputId": "7fe1220c-03cb-4edf-b178-144f4350d112"
      },
      "execution_count": 3,
      "outputs": [
        {
          "output_type": "stream",
          "name": "stdout",
          "text": [
            "Collecting deap\n",
            "  Downloading deap-1.4.1-cp310-cp310-manylinux_2_5_x86_64.manylinux1_x86_64.manylinux_2_17_x86_64.manylinux2014_x86_64.whl.metadata (13 kB)\n",
            "Requirement already satisfied: numpy in /usr/local/lib/python3.10/dist-packages (from deap) (1.26.4)\n",
            "Downloading deap-1.4.1-cp310-cp310-manylinux_2_5_x86_64.manylinux1_x86_64.manylinux_2_17_x86_64.manylinux2014_x86_64.whl (135 kB)\n",
            "\u001b[2K   \u001b[90m━━━━━━━━━━━━━━━━━━━━━━━━━━━━━━━━━━━━━━━━\u001b[0m \u001b[32m135.4/135.4 kB\u001b[0m \u001b[31m4.1 MB/s\u001b[0m eta \u001b[36m0:00:00\u001b[0m\n",
            "\u001b[?25hInstalling collected packages: deap\n",
            "Successfully installed deap-1.4.1\n"
          ]
        }
      ]
    },
    {
      "cell_type": "code",
      "source": [
        "from deap import creator"
      ],
      "metadata": {
        "id": "cweaVI86Bwei"
      },
      "execution_count": 4,
      "outputs": []
    },
    {
      "cell_type": "code",
      "source": [
        "class Employee():\n",
        "  def __init__(self) -> None:\n",
        "    pass\n",
        "\n",
        "creator.create('Developer', Employee, position = 'Developer', porgramingLanguajes = set)"
      ],
      "metadata": {
        "id": "GCFhlts9BwTC"
      },
      "execution_count": 8,
      "outputs": []
    },
    {
      "cell_type": "markdown",
      "source": [
        "* El primer argumento es el nombre que deseamos asignar a la nueva clase, en este caso *'Developer'*.\n",
        "\n",
        "* El segundo argumento es la clase de la cual será creado (clase padre/madre), para nuestro ejemplo será la clase *Employee*. **Nota:** Para esto, necesitamos primero crear la otra clase.\n",
        "\n",
        "* Los siguientes argumentos serán añadidos como atributos de la clase que queremos crear."
      ],
      "metadata": {
        "id": "9vjOwT6RCsBI"
      }
    },
    {
      "cell_type": "code",
      "execution_count": 10,
      "metadata": {
        "colab": {
          "base_uri": "https://localhost:8080/"
        },
        "id": "AyxDpx4u94CM",
        "outputId": "f0629879-c3d8-490d-e376-71bf6e6cbdcd"
      },
      "outputs": [
        {
          "output_type": "stream",
          "name": "stdout",
          "text": [
            "<class 'deap.creator.Developer'>\n",
            "<class '__main__.Employee'>\n"
          ]
        }
      ],
      "source": [
        "print(creator.Developer)\n",
        "print(Employee)"
      ]
    },
    {
      "cell_type": "markdown",
      "source": [
        "Note que, la calse *Developer* esta dentro del modulo *creator*, con lo que debe ser referenciado como ***creator.Developer***"
      ],
      "metadata": {
        "id": "8JE_m0t_DyQQ"
      }
    },
    {
      "cell_type": "code",
      "source": [
        "print(creator.Developer.position)\n",
        "print(creator.Developer.porgramingLanguajes)"
      ],
      "metadata": {
        "colab": {
          "base_uri": "https://localhost:8080/"
        },
        "id": "N1hETM26EJuP",
        "outputId": "dee574a6-e2a0-4942-f879-36fbc667e691"
      },
      "execution_count": 12,
      "outputs": [
        {
          "output_type": "stream",
          "name": "stdout",
          "text": [
            "Developer\n",
            "<class 'set'>\n"
          ]
        }
      ]
    },
    {
      "cell_type": "markdown",
      "source": [
        "# Fiteness Class"
      ],
      "metadata": {
        "id": "Yk5JlaPvCing"
      }
    },
    {
      "cell_type": "markdown",
      "source": [
        "Los puntajes, calificaciónes o aptitudes (fitness values) se encuentran dentro de la clase Fitness.\n"
      ],
      "metadata": {
        "id": "R0yHW0RLO7lc"
      }
    },
    {
      "cell_type": "markdown",
      "source": [
        "##Modulo ***base***"
      ],
      "metadata": {
        "id": "7KrV9GoaO7da"
      }
    },
    {
      "cell_type": "markdown",
      "source": [
        "A partir de la clase *base.Fitness* crearemos nuestra estrategia para abordar el problema planteado. Para eelo hacemos uso de 'pesos' para definir el tipo de soluciones con respecto a los objetivos del problema (Objetivo simple, Multiobjetivo)\n",
        "\n",
        "Por ejemplo:"
      ],
      "metadata": {
        "id": "kFrME3C5Idom"
      }
    },
    {
      "cell_type": "code",
      "source": [
        "from deap import base"
      ],
      "metadata": {
        "id": "pIS-sdexKxjF"
      },
      "execution_count": 35,
      "outputs": []
    },
    {
      "cell_type": "code",
      "source": [
        "creator.create(\"FitnessMax\", base.Fitness, weights=(1.0,))"
      ],
      "metadata": {
        "id": "vAjnEcKrEXZw"
      },
      "execution_count": 36,
      "outputs": []
    },
    {
      "cell_type": "code",
      "source": [
        "print(creator.FitnessMax)"
      ],
      "metadata": {
        "colab": {
          "base_uri": "https://localhost:8080/"
        },
        "id": "kMkOSyfmKW1F",
        "outputId": "94eb83b1-f5c7-4aee-9f5d-d814c175926b"
      },
      "execution_count": 40,
      "outputs": [
        {
          "output_type": "stream",
          "name": "stdout",
          "text": [
            "<class 'deap.creator.FitnessMax'>\n"
          ]
        }
      ]
    },
    {
      "cell_type": "markdown",
      "source": [
        "Esta clase *FitnessMax* con el atributo *weights* inicializado en $(1,)$ nos indica que la estrategia esta definida para un problema en donde se desea maximizar las aptitudes de un problema mono-objetivo. Por el contrario, si se desea una minimiación mono-objetivo de las aptitudes se escribe de la siguiente manera:"
      ],
      "metadata": {
        "id": "epeFWm8gMM0Q"
      }
    },
    {
      "cell_type": "code",
      "source": [
        "creator.create(\"FitnessMin\", base.Fitness, weights=(-1.0,))"
      ],
      "metadata": {
        "id": "ST0vaGIANWWw"
      },
      "execution_count": 41,
      "outputs": []
    },
    {
      "cell_type": "code",
      "source": [
        "print(creator.FitnessMin)"
      ],
      "metadata": {
        "colab": {
          "base_uri": "https://localhost:8080/"
        },
        "id": "GlZJrOMcNbF2",
        "outputId": "a3565988-5ed6-4aa1-8c3f-f1616f8a4d9f"
      },
      "execution_count": 42,
      "outputs": [
        {
          "output_type": "stream",
          "name": "stdout",
          "text": [
            "<class 'deap.creator.FitnessMin'>\n"
          ]
        }
      ]
    },
    {
      "cell_type": "markdown",
      "source": [
        "De manera similar, se pueden tratar problemas multiobjetivos. En esta situación es donde entran en juego los \"pesos\"  que se les da a cada una de las estrategias, es decir, el peso que tienen en nuestro problema cada uno de los objetivos."
      ],
      "metadata": {
        "id": "z9jELIvoKb2k"
      }
    },
    {
      "cell_type": "code",
      "source": [
        "creator.create(\"FitnessCompound\", base.Fitness, weights=(1.0, 0.2, -0.5))\n",
        "print(creator.FitnessCompound)"
      ],
      "metadata": {
        "colab": {
          "base_uri": "https://localhost:8080/"
        },
        "id": "5Z_ANz9aNzDp",
        "outputId": "4aba5185-15ba-4789-b660-3710480f89b8"
      },
      "execution_count": 44,
      "outputs": [
        {
          "output_type": "stream",
          "name": "stdout",
          "text": [
            "<class 'deap.creator.FitnessCompound'>\n"
          ]
        },
        {
          "output_type": "stream",
          "name": "stderr",
          "text": [
            "/usr/local/lib/python3.10/dist-packages/deap/creator.py:185: RuntimeWarning: A class named 'FitnessCompound' has already been created and it will be overwritten. Consider deleting previous creation of that class or rename it.\n",
            "  warnings.warn(\"A class named '{0}' has already been created and it \"\n"
          ]
        }
      ]
    },
    {
      "cell_type": "markdown",
      "source": [
        "Con estos pesos podemos indicar si deseamos maximizar o minimizar cada objetivo, además de clasificarlos según su importancia según la magnitud de la entrada."
      ],
      "metadata": {
        "id": "6NH_vk9aEXof"
      }
    },
    {
      "cell_type": "markdown",
      "source": [
        "##Los *values*"
      ],
      "metadata": {
        "id": "6I8uFkBYPKy0"
      }
    },
    {
      "cell_type": "markdown",
      "source": [
        "Para obtener los *values fitness* o aptitudes utilizamos una tupla llamada *values*, la cual contiene dichos puntajes. Esta tupla se encuentra dentro de la clase *base.Fitness*.\n",
        "\n",
        "Estos valores se obtienen con la dunción comunmente nombrada *evaluate()*. Y los puntajes ponderados por sus pesos se almacenan en la tupla *wvalues*."
      ],
      "metadata": {
        "id": "TBpvhJJuPOiO"
      }
    },
    {
      "cell_type": "markdown",
      "source": [
        "#Individuals Class"
      ],
      "metadata": {
        "id": "xvOp_I2XQSFG"
      }
    },
    {
      "cell_type": "markdown",
      "source": [],
      "metadata": {
        "id": "1vFizF-uQZXz"
      }
    }
  ]
}