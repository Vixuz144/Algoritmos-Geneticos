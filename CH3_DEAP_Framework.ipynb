{
  "nbformat": 4,
  "nbformat_minor": 0,
  "metadata": {
    "colab": {
      "provenance": [],
      "authorship_tag": "ABX9TyMZbgqk2RCZmkwND2O/8n4H",
      "include_colab_link": true
    },
    "kernelspec": {
      "name": "python3",
      "display_name": "Python 3"
    },
    "language_info": {
      "name": "python"
    }
  },
  "cells": [
    {
      "cell_type": "markdown",
      "metadata": {
        "id": "view-in-github",
        "colab_type": "text"
      },
      "source": [
        "<a href=\"https://colab.research.google.com/github/Vixuz144/Algoritmos-Geneticos/blob/main/CH3_DEAP_Framework.ipynb\" target=\"_parent\"><img src=\"https://colab.research.google.com/assets/colab-badge.svg\" alt=\"Open In Colab\"/></a>"
      ]
    },
    {
      "cell_type": "markdown",
      "source": [
        "DEAP: Distributed Evolutionary Algorithms in Python"
      ],
      "metadata": {
        "id": "9P4-lLVV_br4"
      }
    },
    {
      "cell_type": "markdown",
      "source": [
        "Prrmero, se presenta el modulo *creator*, el cual sirve para crear clases. En el libro se nos presenta el siguiente ejemplo."
      ],
      "metadata": {
        "id": "toXaXYpTA0_2"
      }
    },
    {
      "cell_type": "code",
      "source": [
        "pip install deap"
      ],
      "metadata": {
        "colab": {
          "base_uri": "https://localhost:8080/"
        },
        "id": "c_SC9EnbB2CQ",
        "outputId": "ffddf57d-0467-491b-f7bd-329ce08df466"
      },
      "execution_count": 1,
      "outputs": [
        {
          "output_type": "stream",
          "name": "stdout",
          "text": [
            "Collecting deap\n",
            "  Downloading deap-1.4.1-cp310-cp310-manylinux_2_5_x86_64.manylinux1_x86_64.manylinux_2_17_x86_64.manylinux2014_x86_64.whl.metadata (13 kB)\n",
            "Requirement already satisfied: numpy in /usr/local/lib/python3.10/dist-packages (from deap) (1.26.4)\n",
            "Downloading deap-1.4.1-cp310-cp310-manylinux_2_5_x86_64.manylinux1_x86_64.manylinux_2_17_x86_64.manylinux2014_x86_64.whl (135 kB)\n",
            "\u001b[2K   \u001b[90m━━━━━━━━━━━━━━━━━━━━━━━━━━━━━━━━━━━━━━━━\u001b[0m \u001b[32m135.4/135.4 kB\u001b[0m \u001b[31m3.0 MB/s\u001b[0m eta \u001b[36m0:00:00\u001b[0m\n",
            "\u001b[?25hInstalling collected packages: deap\n",
            "Successfully installed deap-1.4.1\n"
          ]
        }
      ]
    },
    {
      "cell_type": "code",
      "source": [
        "from deap import creator"
      ],
      "metadata": {
        "id": "cweaVI86Bwei"
      },
      "execution_count": 2,
      "outputs": []
    },
    {
      "cell_type": "code",
      "source": [
        "class Employee():\n",
        "  def __init__(self) -> None:\n",
        "    pass\n",
        "\n",
        "creator.create('Developer', Employee, position = 'Developer', porgramingLanguajes = set)"
      ],
      "metadata": {
        "id": "GCFhlts9BwTC"
      },
      "execution_count": 3,
      "outputs": []
    },
    {
      "cell_type": "markdown",
      "source": [
        "* El primer argumento es el nombre que deseamos asignar a la nueva clase, en este caso *'Developer'*.\n",
        "\n",
        "* El segundo argumento es la clase de la cual será creado (clase padre/madre), para nuestro ejemplo será la clase *Employee*. **Nota:** Para esto, necesitamos primero crear la otra clase.\n",
        "\n",
        "* Los siguientes argumentos serán añadidos como atributos de la clase que queremos crear."
      ],
      "metadata": {
        "id": "9vjOwT6RCsBI"
      }
    },
    {
      "cell_type": "code",
      "execution_count": 4,
      "metadata": {
        "colab": {
          "base_uri": "https://localhost:8080/"
        },
        "id": "AyxDpx4u94CM",
        "outputId": "0c6be3e1-7008-4a10-ba4b-b4869d6c8ce2"
      },
      "outputs": [
        {
          "output_type": "stream",
          "name": "stdout",
          "text": [
            "<class 'deap.creator.Developer'>\n",
            "<class '__main__.Employee'>\n"
          ]
        }
      ],
      "source": [
        "print(creator.Developer)\n",
        "print(Employee)"
      ]
    },
    {
      "cell_type": "markdown",
      "source": [
        "Note que, la calse *Developer* esta dentro del modulo *creator*, con lo que debe ser referenciado como ***creator.Developer***"
      ],
      "metadata": {
        "id": "8JE_m0t_DyQQ"
      }
    },
    {
      "cell_type": "code",
      "source": [
        "print(creator.Developer.position)\n",
        "print(creator.Developer.porgramingLanguajes)"
      ],
      "metadata": {
        "colab": {
          "base_uri": "https://localhost:8080/"
        },
        "id": "N1hETM26EJuP",
        "outputId": "f4d05c87-3ea5-4f07-b33d-39e82ea2a532"
      },
      "execution_count": 5,
      "outputs": [
        {
          "output_type": "stream",
          "name": "stdout",
          "text": [
            "Developer\n",
            "<class 'set'>\n"
          ]
        }
      ]
    },
    {
      "cell_type": "markdown",
      "source": [
        "# Fiteness Class"
      ],
      "metadata": {
        "id": "Yk5JlaPvCing"
      }
    },
    {
      "cell_type": "markdown",
      "source": [
        "Los puntajes, calificaciónes o aptitudes (fitness values) se encuentran dentro de la clase Fitness.\n"
      ],
      "metadata": {
        "id": "R0yHW0RLO7lc"
      }
    },
    {
      "cell_type": "markdown",
      "source": [
        "##Modulo ***base***"
      ],
      "metadata": {
        "id": "7KrV9GoaO7da"
      }
    },
    {
      "cell_type": "markdown",
      "source": [
        "A partir de la clase *base.Fitness* crearemos nuestra estrategia para abordar el problema planteado. Para eelo hacemos uso de 'pesos' para definir el tipo de soluciones con respecto a los objetivos del problema (Objetivo simple, Multiobjetivo)\n",
        "\n",
        "Por ejemplo:"
      ],
      "metadata": {
        "id": "kFrME3C5Idom"
      }
    },
    {
      "cell_type": "code",
      "source": [
        "from deap import base"
      ],
      "metadata": {
        "id": "pIS-sdexKxjF"
      },
      "execution_count": 6,
      "outputs": []
    },
    {
      "cell_type": "code",
      "source": [
        "creator.create(\"FitnessMax\", base.Fitness, weights=(1.0,))"
      ],
      "metadata": {
        "id": "vAjnEcKrEXZw"
      },
      "execution_count": 7,
      "outputs": []
    },
    {
      "cell_type": "code",
      "source": [
        "print(creator.FitnessMax)"
      ],
      "metadata": {
        "colab": {
          "base_uri": "https://localhost:8080/"
        },
        "id": "kMkOSyfmKW1F",
        "outputId": "29277841-b442-4864-c001-e477e9548534"
      },
      "execution_count": 8,
      "outputs": [
        {
          "output_type": "stream",
          "name": "stdout",
          "text": [
            "<class 'deap.creator.FitnessMax'>\n"
          ]
        }
      ]
    },
    {
      "cell_type": "markdown",
      "source": [
        "Esta clase *FitnessMax* con el atributo *weights* inicializado en $(1,)$ nos indica que la estrategia esta definida para un problema en donde se desea maximizar las aptitudes de un problema mono-objetivo. Por el contrario, si se desea una minimiación mono-objetivo de las aptitudes se escribe de la siguiente manera:"
      ],
      "metadata": {
        "id": "epeFWm8gMM0Q"
      }
    },
    {
      "cell_type": "code",
      "source": [
        "creator.create(\"FitnessMin\", base.Fitness, weights=(-1.0,))"
      ],
      "metadata": {
        "id": "ST0vaGIANWWw"
      },
      "execution_count": 9,
      "outputs": []
    },
    {
      "cell_type": "code",
      "source": [
        "print(creator.FitnessMin)"
      ],
      "metadata": {
        "colab": {
          "base_uri": "https://localhost:8080/"
        },
        "id": "GlZJrOMcNbF2",
        "outputId": "315e924f-7539-4115-a71a-1b02b48e419d"
      },
      "execution_count": 10,
      "outputs": [
        {
          "output_type": "stream",
          "name": "stdout",
          "text": [
            "<class 'deap.creator.FitnessMin'>\n"
          ]
        }
      ]
    },
    {
      "cell_type": "markdown",
      "source": [
        "De manera similar, se pueden tratar problemas multiobjetivos. En esta situación es donde entran en juego los \"pesos\"  que se les da a cada una de las estrategias, es decir, el peso que tienen en nuestro problema cada uno de los objetivos."
      ],
      "metadata": {
        "id": "z9jELIvoKb2k"
      }
    },
    {
      "cell_type": "code",
      "source": [
        "creator.create(\"FitnessCompound\", base.Fitness, weights=(1.0, 0.2, -0.5))\n",
        "print(creator.FitnessCompound)"
      ],
      "metadata": {
        "colab": {
          "base_uri": "https://localhost:8080/"
        },
        "id": "5Z_ANz9aNzDp",
        "outputId": "19276fba-4738-492a-d5ab-20fec302f57c"
      },
      "execution_count": 11,
      "outputs": [
        {
          "output_type": "stream",
          "name": "stdout",
          "text": [
            "<class 'deap.creator.FitnessCompound'>\n"
          ]
        }
      ]
    },
    {
      "cell_type": "markdown",
      "source": [
        "Con estos pesos podemos indicar si deseamos maximizar o minimizar cada objetivo, además de clasificarlos según su importancia según la magnitud de la entrada."
      ],
      "metadata": {
        "id": "6NH_vk9aEXof"
      }
    },
    {
      "cell_type": "markdown",
      "source": [
        "##Los *values*"
      ],
      "metadata": {
        "id": "6I8uFkBYPKy0"
      }
    },
    {
      "cell_type": "markdown",
      "source": [
        "Para obtener los *values fitness* o aptitudes utilizamos una tupla llamada *values*, la cual contiene dichos puntajes. Esta tupla se encuentra dentro de la clase *base.Fitness*.\n",
        "\n",
        "Estos valores se obtienen con la dunción comunmente nombrada *evaluate()*. Y los puntajes ponderados por sus pesos se almacenan en la tupla *wvalues*."
      ],
      "metadata": {
        "id": "TBpvhJJuPOiO"
      }
    },
    {
      "cell_type": "markdown",
      "source": [
        "#Individuals Class"
      ],
      "metadata": {
        "id": "xvOp_I2XQSFG"
      }
    },
    {
      "cell_type": "markdown",
      "source": [
        "También usamos creator para definir los individuos de la población."
      ],
      "metadata": {
        "id": "1vFizF-uQZXz"
      }
    },
    {
      "cell_type": "code",
      "source": [
        "creator.create(\"Individual\", list, fitness=creator.FitnessMax)"
      ],
      "metadata": {
        "id": "WRYMcRnYWYBx"
      },
      "execution_count": 12,
      "outputs": []
    },
    {
      "cell_type": "code",
      "source": [
        "print(creator.Individual)\n",
        "print(creator.Individual.fitness)"
      ],
      "metadata": {
        "colab": {
          "base_uri": "https://localhost:8080/"
        },
        "id": "bzR8uqUJWs_8",
        "outputId": "ac99d948-13bf-4d30-b864-af630bb70d1e"
      },
      "execution_count": 13,
      "outputs": [
        {
          "output_type": "stream",
          "name": "stdout",
          "text": [
            "<class 'deap.creator.Individual'>\n",
            "<class 'deap.creator.FitnessMax'>\n"
          ]
        }
      ]
    },
    {
      "cell_type": "markdown",
      "source": [
        "En adición, para todas las instancias de los individuos necesitan tener como atributo la fitness function."
      ],
      "metadata": {
        "id": "eBocHnqsW4e6"
      }
    },
    {
      "cell_type": "markdown",
      "source": [
        "#Toolbox"
      ],
      "metadata": {
        "id": "WmH9BcjPW9u6"
      }
    },
    {
      "cell_type": "markdown",
      "source": [
        "*Toolbox* o caja de herramientas, como lo sugiere su nombre, es un contenedor de funciones u operadores, su función es permitirnos crear nuevos operadores a partir de los ya existentes."
      ],
      "metadata": {
        "id": "K6FL-g-nXLeT"
      }
    },
    {
      "cell_type": "markdown",
      "source": [
        "Por ejemplo:"
      ],
      "metadata": {
        "id": "eahDmsymX3J0"
      }
    },
    {
      "cell_type": "code",
      "source": [
        "def suma(a,b):\n",
        "  return a + b"
      ],
      "metadata": {
        "id": "dQVo7SNbX2cz"
      },
      "execution_count": 14,
      "outputs": []
    },
    {
      "cell_type": "code",
      "source": [
        "toolbox = base.Toolbox()\n",
        "toolbox.register('Incremento_5', suma, b = 5)"
      ],
      "metadata": {
        "id": "uTPYbxLwX9jb"
      },
      "execution_count": 15,
      "outputs": []
    },
    {
      "cell_type": "markdown",
      "source": [
        "* La primera entrada de la función *register()* es el alias con el que nos queremos referir a nuestro nuevo operador.\n",
        "* La segunda entrada es la función que queremos registrar.\n",
        "* En las siguientes entradas (opcionales) son los valores que se le darán al operador de manera automática."
      ],
      "metadata": {
        "id": "xxkaE6HwYX3B"
      }
    },
    {
      "cell_type": "code",
      "source": [
        "print(toolbox.Incremento_5(10))"
      ],
      "metadata": {
        "colab": {
          "base_uri": "https://localhost:8080/"
        },
        "id": "6fEcotrUYQJs",
        "outputId": "95ad1be2-4343-4926-be5f-4dd36ce93c09"
      },
      "execution_count": 16,
      "outputs": [
        {
          "output_type": "stream",
          "name": "stdout",
          "text": [
            "15\n"
          ]
        }
      ]
    },
    {
      "cell_type": "markdown",
      "source": [
        "#Operadores genéticos"
      ],
      "metadata": {
        "id": "Sy_TCRNQY-oq"
      }
    },
    {
      "cell_type": "markdown",
      "source": [
        "Existe el módulo *tools* dentro de la librería DEAP, el cual viene con un conjunto de operaciones o funciones desarrolladas para el funcionamiento de los algoritmos evolutivos. Entre los cuales podemos ver algunas funciones de los operadores genéticos.\n",
        "\n",
        "Con función *register()* del módulo *Toolbox* también podemos renombrar las funciones del módulo *tolls*. De manera que podamos usarlas con mayor facilidad y tenga una mayor legibilidad dentro de nuestro código al usarlas."
      ],
      "metadata": {
        "id": "hwVT2LFhZBrs"
      }
    },
    {
      "cell_type": "code",
      "source": [
        "from deap import tools\n",
        "toolbox.register(\"seleccion\", tools.selTournament, tournsize=3)\n",
        "toolbox.register(\"cruza\", tools.cxTwoPoint)\n",
        "toolbox.register(\"mutacion\", tools.mutFlipBit, indpb=0.02)"
      ],
      "metadata": {
        "id": "2ZvDkQQiZB_S"
      },
      "execution_count": 17,
      "outputs": []
    },
    {
      "cell_type": "markdown",
      "source": [
        "Algunas de las funciones del modulo *tools* son:"
      ],
      "metadata": {
        "id": "3Wco87h6aUuc"
      }
    },
    {
      "cell_type": "markdown",
      "source": [
        "$$\\textrm{Operadores de selección}\\left\\{\\begin{matrix} selRoulette() \\\\\n",
        "selStochasticUniversalSampling() \\\\\n",
        "selTournament() \\end{matrix}\\right.$$"
      ],
      "metadata": {
        "id": "F0k3H3j9aajr"
      }
    },
    {
      "cell_type": "markdown",
      "source": [
        "$$\\textrm{Operadores de selección}\\left\\{\\begin{matrix} cxOnePoint() \\\\\n",
        "cxUniform() \\\\\n",
        "cxOrdered() \\\\\n",
        "cxPartialyMatched() \\end{matrix}\\right.$$"
      ],
      "metadata": {
        "id": "vdTxtRPDaafq"
      }
    },
    {
      "cell_type": "markdown",
      "source": [
        "$$\\textrm{Operadores de selección}\\left\\{\\begin{matrix} mutFlipBit() \\\\\n",
        "mutGaussian() \\end{matrix}\\right.$$"
      ],
      "metadata": {
        "id": "-BGV1thuaabD"
      }
    },
    {
      "cell_type": "markdown",
      "source": [
        "#Población"
      ],
      "metadata": {
        "id": "IOr5m87paaRB"
      }
    },
    {
      "cell_type": "markdown",
      "source": [
        "Para generar la población inicial, se usa la función *initRepeat()* del modulo *tools*."
      ],
      "metadata": {
        "id": "wY4ADfHucqp_"
      }
    },
    {
      "cell_type": "code",
      "source": [
        "import random\n",
        "randomList = tools.initRepeat(list, random.random, 30)\n",
        "print(randomList)"
      ],
      "metadata": {
        "colab": {
          "base_uri": "https://localhost:8080/"
        },
        "id": "Es6Kf3t8c-pQ",
        "outputId": "207ed3db-124a-4c7c-c73d-ca9d9037c5c1"
      },
      "execution_count": 18,
      "outputs": [
        {
          "output_type": "stream",
          "name": "stdout",
          "text": [
            "[0.6564157887365161, 0.4129699108186151, 0.9123063162293535, 0.2723065999103921, 0.5605193933452333, 0.8286407123850257, 0.327935987145036, 0.8123900050724356, 0.23598250715120805, 0.21272512485593809, 0.8445466422072072, 0.7333683026100357, 0.12704096951117372, 0.18437562291102205, 0.3820503371267874, 0.5738679712037474, 0.9011140246612754, 0.9316142662215009, 0.19986575610786872, 0.7706221397572615, 0.044856643867398294, 0.919509604199757, 0.6021635048318646, 0.018632322070675666, 0.7421031277707251, 0.9669457878080252, 0.18456138634370123, 0.264636613865495, 0.05634357996248518, 0.42940939828255964]\n"
          ]
        }
      ]
    },
    {
      "cell_type": "markdown",
      "source": [
        "* El primer argumento es el tipo de estructura en el que se desea almacenar la población, en este caso un *list*\n",
        "* El segundo argumento indica que función se usará para generar la población, para este ejemplo es necesario importar primero la librería de donde se desea tomar el generador de números aleatorios.\n",
        "* El tercer argumento indica el número de individuos de la población."
      ],
      "metadata": {
        "id": "8EL8GFZCdF5C"
      }
    },
    {
      "cell_type": "code",
      "source": [
        "toolbox.register('CeroOUno', random.randint, 0, 1)\n",
        "randomList = tools.initRepeat(tuple, toolbox.CeroOUno, 30)\n",
        "print(randomList)"
      ],
      "metadata": {
        "colab": {
          "base_uri": "https://localhost:8080/"
        },
        "id": "FlxWzQXcebM0",
        "outputId": "a182a2e8-2e14-43da-a982-c89c69d58c01"
      },
      "execution_count": 19,
      "outputs": [
        {
          "output_type": "stream",
          "name": "stdout",
          "text": [
            "(0, 0, 1, 0, 1, 0, 1, 0, 0, 0, 1, 1, 1, 0, 1, 0, 1, 1, 0, 0, 1, 0, 1, 1, 1, 0, 1, 0, 0, 1)\n"
          ]
        }
      ]
    },
    {
      "cell_type": "markdown",
      "source": [
        "Usando lo ya aprendido, podemos crear un operador que nos genere 0s o 1s de manera aleatoria para nuestra población inicial."
      ],
      "metadata": {
        "id": "UC4QpJBMe96I"
      }
    },
    {
      "cell_type": "markdown",
      "source": [
        "#Aptitudes"
      ],
      "metadata": {
        "id": "IXRwb_J2fLQA"
      }
    },
    {
      "cell_type": "markdown",
      "source": [
        "Con el modulo *toolbos* registraremos nuestra fitness function o función objetivo con el nombre 'evaluate'."
      ],
      "metadata": {
        "id": "VINuV1mofU7o"
      }
    },
    {
      "cell_type": "code",
      "source": [
        "def func(indiv):\n",
        "  return sum(i for i in indiv)\n",
        "\n",
        "# print(func([1,2,3]))"
      ],
      "metadata": {
        "id": "cJcTsQtyfkoQ"
      },
      "execution_count": 20,
      "outputs": []
    },
    {
      "cell_type": "code",
      "source": [
        "toolbox.register(\"evaluate\", func)"
      ],
      "metadata": {
        "id": "uk3YpCDAf9uq"
      },
      "execution_count": 21,
      "outputs": []
    },
    {
      "cell_type": "markdown",
      "source": [
        "#The OneMax Problem"
      ],
      "metadata": {
        "id": "92bf__IMfkWQ"
      }
    }
  ]
}