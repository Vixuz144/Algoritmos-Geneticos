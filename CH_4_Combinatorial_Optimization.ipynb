{
  "nbformat": 4,
  "nbformat_minor": 0,
  "metadata": {
    "colab": {
      "provenance": [],
      "authorship_tag": "ABX9TyP0dAZpmfQf0RM8KHtnzlDo",
      "include_colab_link": true
    },
    "kernelspec": {
      "name": "python3",
      "display_name": "Python 3"
    },
    "language_info": {
      "name": "python"
    }
  },
  "cells": [
    {
      "cell_type": "markdown",
      "metadata": {
        "id": "view-in-github",
        "colab_type": "text"
      },
      "source": [
        "<a href=\"https://colab.research.google.com/github/Vixuz144/Algoritmos-Geneticos/blob/main/CH_4_Combinatorial_Optimization.ipynb\" target=\"_parent\"><img src=\"https://colab.research.google.com/assets/colab-badge.svg\" alt=\"Open In Colab\"/></a>"
      ]
    },
    {
      "cell_type": "markdown",
      "source": [
        "En este notebook se abordan el problema de la mochila (*knapsack problem*), el problema del agente viagero (*traveling salesman problem*) y el problema de enrutamiento de vehículos (*vehicle routing problem*)."
      ],
      "metadata": {
        "id": "6ahc6VGvtrLD"
      }
    },
    {
      "cell_type": "markdown",
      "source": [
        "Las librerias a usar son:"
      ],
      "metadata": {
        "id": "q0iKowx1uvOE"
      }
    },
    {
      "cell_type": "code",
      "source": [
        "!pip install deap"
      ],
      "metadata": {
        "colab": {
          "base_uri": "https://localhost:8080/"
        },
        "id": "O1uwWqiGzRJx",
        "outputId": "9d1cf900-7915-475f-d74e-79c066308284"
      },
      "execution_count": 58,
      "outputs": [
        {
          "output_type": "stream",
          "name": "stdout",
          "text": [
            "Requirement already satisfied: deap in /usr/local/lib/python3.10/dist-packages (1.4.1)\n",
            "Requirement already satisfied: numpy in /usr/local/lib/python3.10/dist-packages (from deap) (1.26.4)\n"
          ]
        }
      ]
    },
    {
      "cell_type": "code",
      "execution_count": 59,
      "metadata": {
        "id": "adnU-D9qtUJM"
      },
      "outputs": [],
      "source": [
        "from deap import base, creator, tools, algorithms\n",
        "import numpy as np\n",
        "from random import random, randint, seed\n",
        "import matplotlib.pyplot as plt"
      ]
    },
    {
      "cell_type": "markdown",
      "source": [
        "La cosificación del problema y sus soluciones se presenta con la clase *Knapsack01Problem*. En la cual ya está preestablecido las condiciones del problema, así como el fenotipo de la representación decaga gen."
      ],
      "metadata": {
        "id": "w6vOTRpa1M_t"
      }
    },
    {
      "cell_type": "code",
      "source": [
        "class Knapsack01Problem:\n",
        "    \"\"\"This class encapsulates the Knapsack 0-1 Problem from RosettaCode.org\n",
        "    \"\"\"\n",
        "\n",
        "    def __init__(self):\n",
        "\n",
        "        # initialize instance variables:\n",
        "        self.items = []\n",
        "        self.maxCapacity = 0\n",
        "\n",
        "        # initialize the data:\n",
        "        self.__initData()\n",
        "\n",
        "    def __len__(self):\n",
        "        \"\"\"\n",
        "        :return: the total number of items defined in the problem\n",
        "        \"\"\"\n",
        "        return len(self.items)\n",
        "\n",
        "    def __initData(self):\n",
        "        \"\"\"initializes the RosettaCode.org knapsack 0-1 problem data\n",
        "        \"\"\"\n",
        "        self.items = [\n",
        "            (\"map\", 9, 150),\n",
        "            (\"compass\", 13, 35),\n",
        "            (\"water\", 153, 200),\n",
        "            (\"sandwich\", 50, 160),\n",
        "            (\"glucose\", 15, 60),\n",
        "            (\"tin\", 68, 45),\n",
        "            (\"banana\", 27, 60),\n",
        "            (\"apple\", 39, 40),\n",
        "            (\"cheese\", 23, 30),\n",
        "            (\"beer\", 52, 10),\n",
        "            (\"suntan cream\", 11, 70),\n",
        "            (\"camera\", 32, 30),\n",
        "            (\"t-shirt\", 24, 15),\n",
        "            (\"trousers\", 48, 10),\n",
        "            (\"umbrella\", 73, 40),\n",
        "            (\"waterproof trousers\", 42, 70),\n",
        "            (\"waterproof overclothes\", 43, 75),\n",
        "            (\"note-case\", 22, 80),\n",
        "            (\"sunglasses\", 7, 20),\n",
        "            (\"towel\", 18, 12),\n",
        "            (\"socks\", 4, 50),\n",
        "            (\"book\", 30, 10)\n",
        "        ]\n",
        "\n",
        "        self.maxCapacity = 400\n",
        "\n",
        "    def getValue(self, zeroOneList):\n",
        "        \"\"\"\n",
        "        Calculates the value of the selected items in the list, while ignoring items that will cause the accumulating weight to exceed the maximum weight\n",
        "        :param zeroOneList: a list of 0/1 values corresponding to the list of the problem's items. '1' means that item was selected.\n",
        "        :return: the calculated value\n",
        "        \"\"\"\n",
        "\n",
        "        totalWeight = totalValue = 0\n",
        "\n",
        "        for i in range(len(zeroOneList)):\n",
        "            item, weight, value = self.items[i]\n",
        "            if totalWeight + weight <= self.maxCapacity:\n",
        "                totalWeight += zeroOneList[i] * weight\n",
        "                totalValue += zeroOneList[i] * value\n",
        "        return totalValue\n",
        "\n",
        "    def printItems(self, zeroOneList):\n",
        "        \"\"\"\n",
        "        Prints the selected items in the list, while ignoring items that will cause the accumulating weight to exceed the maximum weight\n",
        "        :param zeroOneList: a list of 0/1 values corresponding to the list of the problem's items. '1' means that item was selected.\n",
        "        \"\"\"\n",
        "        totalWeight = totalValue = 0\n",
        "\n",
        "        for i in range(len(zeroOneList)):\n",
        "            item, weight, value = self.items[i]\n",
        "            if totalWeight + weight <= self.maxCapacity:\n",
        "                if zeroOneList[i] > 0:\n",
        "                    totalWeight += weight\n",
        "                    totalValue += value\n",
        "                    print(\"- Adding {}: weight = {}, value = {}, accumulated weight = {}, accumulated value = {}\".format(item, weight, value, totalWeight, totalValue))\n",
        "        print(\"- Total weight = {}, Total value = {}\".format(totalWeight, totalValue))\n",
        "\n",
        "\n",
        "# testing the class:\n",
        "def main():\n",
        "    # create a problem instance:\n",
        "    knapsack = Knapsack01Problem()\n",
        "\n",
        "    # creaete a random solution and evaluate it:\n",
        "    randomSolution = np.random.randint(2, size=len(knapsack))\n",
        "    print(\"Random Solution = \")\n",
        "    print(randomSolution)\n",
        "    knapsack.printItems(randomSolution)\n",
        "\n",
        "\n",
        "if __name__ == \"__main__\":\n",
        "    main()"
      ],
      "metadata": {
        "colab": {
          "base_uri": "https://localhost:8080/"
        },
        "id": "Pemrs-Xyyu-Y",
        "outputId": "0bb97259-0418-4e57-a564-8207ace0c4d6"
      },
      "execution_count": 60,
      "outputs": [
        {
          "output_type": "stream",
          "name": "stdout",
          "text": [
            "Random Solution = \n",
            "[0 1 0 1 1 0 0 0 0 1 1 1 1 0 1 0 1 1 1 0 1 1]\n",
            "- Adding compass: weight = 13, value = 35, accumulated weight = 13, accumulated value = 35\n",
            "- Adding sandwich: weight = 50, value = 160, accumulated weight = 63, accumulated value = 195\n",
            "- Adding glucose: weight = 15, value = 60, accumulated weight = 78, accumulated value = 255\n",
            "- Adding beer: weight = 52, value = 10, accumulated weight = 130, accumulated value = 265\n",
            "- Adding suntan cream: weight = 11, value = 70, accumulated weight = 141, accumulated value = 335\n",
            "- Adding camera: weight = 32, value = 30, accumulated weight = 173, accumulated value = 365\n",
            "- Adding t-shirt: weight = 24, value = 15, accumulated weight = 197, accumulated value = 380\n",
            "- Adding umbrella: weight = 73, value = 40, accumulated weight = 270, accumulated value = 420\n",
            "- Adding waterproof overclothes: weight = 43, value = 75, accumulated weight = 313, accumulated value = 495\n",
            "- Adding note-case: weight = 22, value = 80, accumulated weight = 335, accumulated value = 575\n",
            "- Adding sunglasses: weight = 7, value = 20, accumulated weight = 342, accumulated value = 595\n",
            "- Adding socks: weight = 4, value = 50, accumulated weight = 346, accumulated value = 645\n",
            "- Adding book: weight = 30, value = 10, accumulated weight = 376, accumulated value = 655\n",
            "- Total weight = 376, Total value = 655\n"
          ]
        }
      ]
    },
    {
      "cell_type": "markdown",
      "source": [
        "A continuación, se presenta la resolución del problem aKnapsack con la librería DEAP."
      ],
      "metadata": {
        "id": "CjDxQZF11mtb"
      }
    },
    {
      "cell_type": "markdown",
      "source": [
        "Primero, creamos la instancia del problema Knapsac (la mochila y sos elementos)."
      ],
      "metadata": {
        "id": "71i5lKgr2GOY"
      }
    },
    {
      "cell_type": "code",
      "source": [
        "knapsack = Knapsack01Problem()"
      ],
      "metadata": {
        "id": "SZrCHJgw05ER"
      },
      "execution_count": 61,
      "outputs": []
    },
    {
      "cell_type": "markdown",
      "source": [
        "Definimos las constantes que regirán nuestro algoritmo genético (hiperparámetros)."
      ],
      "metadata": {
        "id": "8Qf7zRS_22vY"
      }
    },
    {
      "cell_type": "code",
      "source": [
        "TAM_P = 50\n",
        "PC = 0.9\n",
        "PM = 0.1\n",
        "MAX_GEN = 50\n",
        "TAM_HOF = 1"
      ],
      "metadata": {
        "id": "FaxbqQap2aDX"
      },
      "execution_count": 62,
      "outputs": []
    },
    {
      "cell_type": "code",
      "source": [
        "toolbox = base.Toolbox()\n",
        "toolbox.register('zo', randint, 0, 1)\n",
        "creator.create('Maximizar', base.Fitness, weights=(1,))\n",
        "creator.create('Individual', list, fitness=creator.Maximizar)"
      ],
      "metadata": {
        "colab": {
          "base_uri": "https://localhost:8080/"
        },
        "id": "tMox8WcR2ZSW",
        "outputId": "0b2ab778-5799-406a-d0a6-5af4c52bdfcc"
      },
      "execution_count": 63,
      "outputs": [
        {
          "output_type": "stream",
          "name": "stderr",
          "text": [
            "/usr/local/lib/python3.10/dist-packages/deap/creator.py:185: RuntimeWarning: A class named 'Maximizar' has already been created and it will be overwritten. Consider deleting previous creation of that class or rename it.\n",
            "  warnings.warn(\"A class named '{0}' has already been created and it \"\n",
            "/usr/local/lib/python3.10/dist-packages/deap/creator.py:185: RuntimeWarning: A class named 'Individual' has already been created and it will be overwritten. Consider deleting previous creation of that class or rename it.\n",
            "  warnings.warn(\"A class named '{0}' has already been created and it \"\n"
          ]
        }
      ]
    },
    {
      "cell_type": "code",
      "source": [
        "seed(42)\n",
        "toolbox.register('GenInd', tools.initRepeat, creator.Individual, toolbox.zo, len(knapsack))\n",
        "toolbox.register('GenPob', tools.initRepeat, list, toolbox.GenInd)"
      ],
      "metadata": {
        "id": "QGJjbvTn93un"
      },
      "execution_count": 64,
      "outputs": []
    },
    {
      "cell_type": "markdown",
      "source": [
        "Generamos la función objetivo o la función de adaptación."
      ],
      "metadata": {
        "id": "hqLqWWqC-kXJ"
      }
    },
    {
      "cell_type": "code",
      "source": [
        "def knapval(ind):\n",
        "  return knapsack.getValue(ind),"
      ],
      "metadata": {
        "id": "c1owIkol-jac"
      },
      "execution_count": 65,
      "outputs": []
    },
    {
      "cell_type": "code",
      "source": [
        "toolbox.register('evaluate', knapval)\n",
        "toolbox.register(\"select\", tools.selTournament, tournsize=3)\n",
        "toolbox.register(\"mate\", tools.cxTwoPoint)\n",
        "toolbox.register(\"mutate\", tools.mutFlipBit, indpb=1.0/len(knapsack))"
      ],
      "metadata": {
        "id": "YPQuLuls-00k"
      },
      "execution_count": 66,
      "outputs": []
    },
    {
      "cell_type": "code",
      "source": [
        "poblacion_inicial = toolbox.GenPob(n=TAM_P)"
      ],
      "metadata": {
        "id": "ChgQ0uEe_l6A"
      },
      "execution_count": 67,
      "outputs": []
    },
    {
      "cell_type": "markdown",
      "source": [
        "Preparamos el objeto *statistics*"
      ],
      "metadata": {
        "id": "xckhqoJE_ps8"
      }
    },
    {
      "cell_type": "code",
      "source": [
        "stats = tools.Statistics(lambda ind: ind.fitness.values)\n",
        "stats.register(\"max\", np.max)\n",
        "stats.register(\"avg\", np.mean)"
      ],
      "metadata": {
        "id": "dVoH7ANs_o_v"
      },
      "execution_count": 68,
      "outputs": []
    },
    {
      "cell_type": "code",
      "source": [
        "hof = tools.HallOfFame(TAM_HOF)"
      ],
      "metadata": {
        "id": "ZojOVhr0_vZv"
      },
      "execution_count": 69,
      "outputs": []
    },
    {
      "cell_type": "code",
      "source": [
        "pob, logbook = algorithms.eaSimple(poblacion_inicial, toolbox, cxpb=PC, mutpb=PM,\n",
        "                                   ngen=MAX_GEN, stats=stats, halloffame=hof, verbose=True)"
      ],
      "metadata": {
        "colab": {
          "base_uri": "https://localhost:8080/"
        },
        "id": "S7ZpbcuW_5qR",
        "outputId": "ea19654e-6967-4c3e-b151-715bb690af17"
      },
      "execution_count": 70,
      "outputs": [
        {
          "output_type": "stream",
          "name": "stdout",
          "text": [
            "gen\tnevals\tmax\tavg   \n",
            "0  \t50    \t805\t595.86\n",
            "1  \t50    \t860\t704.66\n",
            "2  \t48    \t867\t750.42\n",
            "3  \t46    \t905\t793.74\n",
            "4  \t48    \t945\t826.8 \n",
            "5  \t46    \t955\t858.18\n",
            "6  \t42    \t1000\t897.02\n",
            "7  \t44    \t1002\t916   \n",
            "8  \t46    \t1030\t952.2 \n",
            "9  \t45    \t1030\t974.14\n",
            "10 \t50    \t1030\t985.88\n",
            "11 \t48    \t1030\t998.9 \n",
            "12 \t45    \t1030\t1003.7\n",
            "13 \t47    \t1030\t1023.3\n",
            "14 \t45    \t1030\t1018.9\n",
            "15 \t46    \t1030\t1021.6\n",
            "16 \t47    \t1030\t1022.1\n",
            "17 \t48    \t1030\t1026.7\n",
            "18 \t46    \t1030\t1020  \n",
            "19 \t43    \t1030\t1018.34\n",
            "20 \t46    \t1030\t1024.9 \n",
            "21 \t46    \t1030\t1016.9 \n",
            "22 \t45    \t1030\t1022.8 \n",
            "23 \t46    \t1030\t1027.7 \n",
            "24 \t44    \t1030\t1021.1 \n",
            "25 \t49    \t1030\t1025.7 \n",
            "26 \t44    \t1030\t1015.6 \n",
            "27 \t42    \t1030\t1017.1 \n",
            "28 \t44    \t1030\t1017.1 \n",
            "29 \t43    \t1030\t1023.24\n",
            "30 \t50    \t1030\t1025.6 \n",
            "31 \t46    \t1030\t1025.5 \n",
            "32 \t48    \t1030\t1027.5 \n",
            "33 \t46    \t1030\t1030   \n",
            "34 \t47    \t1030\t1018.74\n",
            "35 \t47    \t1030\t1023.2 \n",
            "36 \t36    \t1030\t1024.1 \n",
            "37 \t48    \t1030\t1016.1 \n",
            "38 \t45    \t1030\t1022.6 \n",
            "39 \t42    \t1030\t1018.7 \n",
            "40 \t47    \t1030\t1022.94\n",
            "41 \t46    \t1030\t1027.1 \n",
            "42 \t43    \t1030\t1024.7 \n",
            "43 \t46    \t1030\t1016.1 \n",
            "44 \t44    \t1030\t1025.7 \n",
            "45 \t48    \t1030\t1023.3 \n",
            "46 \t50    \t1030\t1025.6 \n",
            "47 \t50    \t1030\t1026.1 \n",
            "48 \t45    \t1030\t1024.6 \n",
            "49 \t49    \t1030\t1020.9 \n",
            "50 \t46    \t1030\t1021.9 \n"
          ]
        }
      ]
    },
    {
      "cell_type": "code",
      "source": [
        "best = hof.items[0]\n",
        "print(\"-- El mejor individuo = \", best)\n",
        "print(\"-- El mejor ajuste = \", best.fitness.values[0])"
      ],
      "metadata": {
        "colab": {
          "base_uri": "https://localhost:8080/"
        },
        "id": "gKcFzfzeBqMR",
        "outputId": "87d4728a-af1e-4195-ded3-7a9380afeaf7"
      },
      "execution_count": 71,
      "outputs": [
        {
          "output_type": "stream",
          "name": "stdout",
          "text": [
            "-- El mejor individuo =  [1, 1, 1, 1, 1, 0, 1, 0, 0, 0, 1, 0, 0, 0, 0, 1, 1, 1, 1, 0, 1, 1]\n",
            "-- El mejor ajuste =  1030.0\n"
          ]
        }
      ]
    },
    {
      "cell_type": "code",
      "source": [
        "print(\"-- Knapsack Items = \")\n",
        "knapsack.printItems(best)"
      ],
      "metadata": {
        "colab": {
          "base_uri": "https://localhost:8080/"
        },
        "id": "W-ijhyBEB1ZQ",
        "outputId": "a958b729-0932-4f40-94ba-2f60f4670dbf"
      },
      "execution_count": 72,
      "outputs": [
        {
          "output_type": "stream",
          "name": "stdout",
          "text": [
            "-- Knapsack Items = \n",
            "- Adding map: weight = 9, value = 150, accumulated weight = 9, accumulated value = 150\n",
            "- Adding compass: weight = 13, value = 35, accumulated weight = 22, accumulated value = 185\n",
            "- Adding water: weight = 153, value = 200, accumulated weight = 175, accumulated value = 385\n",
            "- Adding sandwich: weight = 50, value = 160, accumulated weight = 225, accumulated value = 545\n",
            "- Adding glucose: weight = 15, value = 60, accumulated weight = 240, accumulated value = 605\n",
            "- Adding banana: weight = 27, value = 60, accumulated weight = 267, accumulated value = 665\n",
            "- Adding suntan cream: weight = 11, value = 70, accumulated weight = 278, accumulated value = 735\n",
            "- Adding waterproof trousers: weight = 42, value = 70, accumulated weight = 320, accumulated value = 805\n",
            "- Adding waterproof overclothes: weight = 43, value = 75, accumulated weight = 363, accumulated value = 880\n",
            "- Adding note-case: weight = 22, value = 80, accumulated weight = 385, accumulated value = 960\n",
            "- Adding sunglasses: weight = 7, value = 20, accumulated weight = 392, accumulated value = 980\n",
            "- Adding socks: weight = 4, value = 50, accumulated weight = 396, accumulated value = 1030\n",
            "- Total weight = 396, Total value = 1030\n"
          ]
        }
      ]
    },
    {
      "cell_type": "code",
      "source": [
        "maxFitnessValues, meanFitnessValues = logbook.select(\"max\", \"avg\")"
      ],
      "metadata": {
        "id": "7wwbduFtB9H5"
      },
      "execution_count": 73,
      "outputs": []
    },
    {
      "cell_type": "code",
      "source": [
        "plt.style.use('dark_background')\n",
        "plt.grid(color='darkgray')\n",
        "plt.plot(maxFitnessValues, color='red')\n",
        "plt.plot(meanFitnessValues, color='green')\n",
        "plt.xlabel('Generation')\n",
        "plt.ylabel('Max / Average Fitness')\n",
        "plt.title('Max and Average fitness over Generations')\n",
        "plt.show()"
      ],
      "metadata": {
        "colab": {
          "base_uri": "https://localhost:8080/",
          "height": 472
        },
        "id": "8i7vMFGw_R3_",
        "outputId": "3efb8d28-6042-48a5-b1ae-137aa7df1a7f"
      },
      "execution_count": 76,
      "outputs": [
        {
          "output_type": "display_data",
          "data": {
            "text/plain": [
              "<Figure size 640x480 with 1 Axes>"
            ],
            "image/png": "[encoded data removed]"
          },
          "metadata": {}
        }
      ]
    }
  ]
}